{
  "nbformat": 4,
  "nbformat_minor": 0,
  "metadata": {
    "colab": {
      "name": "CIFAR10_Neural_Net.ipynb",
      "provenance": []
    },
    "kernelspec": {
      "name": "python3",
      "display_name": "Python 3"
    },
    "language_info": {
      "name": "python"
    }
  },
  "cells": [
    {
      "cell_type": "code",
      "metadata": {
        "colab": {
          "base_uri": "https://localhost:8080/"
        },
        "id": "kSrlV5YJEovC",
        "outputId": "9fc8fb08-193d-4ac5-e917-6bb8eeace938"
      },
      "source": [
        "!pip install tensorflow==2.4.1 tensorflow-quantum"
      ],
      "execution_count": 31,
      "outputs": [
        {
          "output_type": "stream",
          "text": [
            "Requirement already satisfied: tensorflow==2.4.1 in /usr/local/lib/python3.7/dist-packages (2.4.1)\n",
            "Requirement already satisfied: tensorflow-quantum in /usr/local/lib/python3.7/dist-packages (0.5.1)\n",
            "Requirement already satisfied: gast==0.3.3 in /usr/local/lib/python3.7/dist-packages (from tensorflow==2.4.1) (0.3.3)\n",
            "Requirement already satisfied: absl-py~=0.10 in /usr/local/lib/python3.7/dist-packages (from tensorflow==2.4.1) (0.12.0)\n",
            "Requirement already satisfied: grpcio~=1.32.0 in /usr/local/lib/python3.7/dist-packages (from tensorflow==2.4.1) (1.32.0)\n",
            "Requirement already satisfied: tensorboard~=2.4 in /usr/local/lib/python3.7/dist-packages (from tensorflow==2.4.1) (2.5.0)\n",
            "Requirement already satisfied: termcolor~=1.1.0 in /usr/local/lib/python3.7/dist-packages (from tensorflow==2.4.1) (1.1.0)\n",
            "Requirement already satisfied: tensorflow-estimator<2.5.0,>=2.4.0 in /usr/local/lib/python3.7/dist-packages (from tensorflow==2.4.1) (2.4.0)\n",
            "Requirement already satisfied: protobuf>=3.9.2 in /usr/local/lib/python3.7/dist-packages (from tensorflow==2.4.1) (3.13.0)\n",
            "Requirement already satisfied: google-pasta~=0.2 in /usr/local/lib/python3.7/dist-packages (from tensorflow==2.4.1) (0.2.0)\n",
            "Requirement already satisfied: keras-preprocessing~=1.1.2 in /usr/local/lib/python3.7/dist-packages (from tensorflow==2.4.1) (1.1.2)\n",
            "Requirement already satisfied: wheel~=0.35 in /usr/local/lib/python3.7/dist-packages (from tensorflow==2.4.1) (0.36.2)\n",
            "Requirement already satisfied: opt-einsum~=3.3.0 in /usr/local/lib/python3.7/dist-packages (from tensorflow==2.4.1) (3.3.0)\n",
            "Requirement already satisfied: six~=1.15.0 in /usr/local/lib/python3.7/dist-packages (from tensorflow==2.4.1) (1.15.0)\n",
            "Requirement already satisfied: flatbuffers~=1.12.0 in /usr/local/lib/python3.7/dist-packages (from tensorflow==2.4.1) (1.12)\n",
            "Requirement already satisfied: typing-extensions~=3.7.4 in /usr/local/lib/python3.7/dist-packages (from tensorflow==2.4.1) (3.7.4.3)\n",
            "Requirement already satisfied: astunparse~=1.6.3 in /usr/local/lib/python3.7/dist-packages (from tensorflow==2.4.1) (1.6.3)\n",
            "Requirement already satisfied: h5py~=2.10.0 in /usr/local/lib/python3.7/dist-packages (from tensorflow==2.4.1) (2.10.0)\n",
            "Requirement already satisfied: numpy~=1.19.2 in /usr/local/lib/python3.7/dist-packages (from tensorflow==2.4.1) (1.19.5)\n",
            "Requirement already satisfied: wrapt~=1.12.1 in /usr/local/lib/python3.7/dist-packages (from tensorflow==2.4.1) (1.12.1)\n",
            "Requirement already satisfied: setuptools in /usr/local/lib/python3.7/dist-packages (from protobuf>=3.9.2->tensorflow==2.4.1) (57.2.0)\n",
            "Requirement already satisfied: google-auth-oauthlib<0.5,>=0.4.1 in /usr/local/lib/python3.7/dist-packages (from tensorboard~=2.4->tensorflow==2.4.1) (0.4.4)\n",
            "Requirement already satisfied: werkzeug>=0.11.15 in /usr/local/lib/python3.7/dist-packages (from tensorboard~=2.4->tensorflow==2.4.1) (1.0.1)\n",
            "Requirement already satisfied: requests<3,>=2.21.0 in /usr/local/lib/python3.7/dist-packages (from tensorboard~=2.4->tensorflow==2.4.1) (2.23.0)\n",
            "Requirement already satisfied: google-auth<2,>=1.6.3 in /usr/local/lib/python3.7/dist-packages (from tensorboard~=2.4->tensorflow==2.4.1) (1.18.0)\n",
            "Requirement already satisfied: markdown>=2.6.8 in /usr/local/lib/python3.7/dist-packages (from tensorboard~=2.4->tensorflow==2.4.1) (3.3.4)\n",
            "Requirement already satisfied: tensorboard-plugin-wit>=1.6.0 in /usr/local/lib/python3.7/dist-packages (from tensorboard~=2.4->tensorflow==2.4.1) (1.8.0)\n",
            "Requirement already satisfied: tensorboard-data-server<0.7.0,>=0.6.0 in /usr/local/lib/python3.7/dist-packages (from tensorboard~=2.4->tensorflow==2.4.1) (0.6.1)\n",
            "Requirement already satisfied: cachetools<5.0,>=2.0.0 in /usr/local/lib/python3.7/dist-packages (from google-auth<2,>=1.6.3->tensorboard~=2.4->tensorflow==2.4.1) (4.2.2)\n",
            "Requirement already satisfied: rsa<5,>=3.1.4 in /usr/local/lib/python3.7/dist-packages (from google-auth<2,>=1.6.3->tensorboard~=2.4->tensorflow==2.4.1) (4.7.2)\n",
            "Requirement already satisfied: pyasn1-modules>=0.2.1 in /usr/local/lib/python3.7/dist-packages (from google-auth<2,>=1.6.3->tensorboard~=2.4->tensorflow==2.4.1) (0.2.8)\n",
            "Requirement already satisfied: requests-oauthlib>=0.7.0 in /usr/local/lib/python3.7/dist-packages (from google-auth-oauthlib<0.5,>=0.4.1->tensorboard~=2.4->tensorflow==2.4.1) (1.3.0)\n",
            "Requirement already satisfied: importlib-metadata in /usr/local/lib/python3.7/dist-packages (from markdown>=2.6.8->tensorboard~=2.4->tensorflow==2.4.1) (4.6.1)\n",
            "Requirement already satisfied: pyasn1<0.5.0,>=0.4.6 in /usr/local/lib/python3.7/dist-packages (from pyasn1-modules>=0.2.1->google-auth<2,>=1.6.3->tensorboard~=2.4->tensorflow==2.4.1) (0.4.8)\n",
            "Requirement already satisfied: idna<3,>=2.5 in /usr/local/lib/python3.7/dist-packages (from requests<3,>=2.21.0->tensorboard~=2.4->tensorflow==2.4.1) (2.10)\n",
            "Requirement already satisfied: urllib3!=1.25.0,!=1.25.1,<1.26,>=1.21.1 in /usr/local/lib/python3.7/dist-packages (from requests<3,>=2.21.0->tensorboard~=2.4->tensorflow==2.4.1) (1.24.3)\n",
            "Requirement already satisfied: certifi>=2017.4.17 in /usr/local/lib/python3.7/dist-packages (from requests<3,>=2.21.0->tensorboard~=2.4->tensorflow==2.4.1) (2021.5.30)\n",
            "Requirement already satisfied: chardet<4,>=3.0.2 in /usr/local/lib/python3.7/dist-packages (from requests<3,>=2.21.0->tensorboard~=2.4->tensorflow==2.4.1) (3.0.4)\n",
            "Requirement already satisfied: oauthlib>=3.0.0 in /usr/local/lib/python3.7/dist-packages (from requests-oauthlib>=0.7.0->google-auth-oauthlib<0.5,>=0.4.1->tensorboard~=2.4->tensorflow==2.4.1) (3.1.1)\n",
            "Requirement already satisfied: googleapis-common-protos==1.52.0 in /usr/local/lib/python3.7/dist-packages (from tensorflow-quantum) (1.52.0)\n",
            "Requirement already satisfied: cirq==0.11.0 in /usr/local/lib/python3.7/dist-packages (from tensorflow-quantum) (0.11.0)\n",
            "Requirement already satisfied: google-api-core==1.21.0 in /usr/local/lib/python3.7/dist-packages (from tensorflow-quantum) (1.21.0)\n",
            "Requirement already satisfied: sympy==1.5 in /usr/local/lib/python3.7/dist-packages (from tensorflow-quantum) (1.5)\n",
            "Requirement already satisfied: cirq-google==0.11.0 in /usr/local/lib/python3.7/dist-packages (from cirq==0.11.0->tensorflow-quantum) (0.11.0)\n",
            "Requirement already satisfied: cirq-core==0.11.0 in /usr/local/lib/python3.7/dist-packages (from cirq==0.11.0->tensorflow-quantum) (0.11.0)\n",
            "Requirement already satisfied: sortedcontainers~=2.0 in /usr/local/lib/python3.7/dist-packages (from cirq-core==0.11.0->cirq==0.11.0->tensorflow-quantum) (2.4.0)\n",
            "Requirement already satisfied: tqdm in /usr/local/lib/python3.7/dist-packages (from cirq-core==0.11.0->cirq==0.11.0->tensorflow-quantum) (4.41.1)\n",
            "Requirement already satisfied: scipy in /usr/local/lib/python3.7/dist-packages (from cirq-core==0.11.0->cirq==0.11.0->tensorflow-quantum) (1.4.1)\n",
            "Requirement already satisfied: networkx~=2.4 in /usr/local/lib/python3.7/dist-packages (from cirq-core==0.11.0->cirq==0.11.0->tensorflow-quantum) (2.5.1)\n",
            "Requirement already satisfied: matplotlib~=3.0 in /usr/local/lib/python3.7/dist-packages (from cirq-core==0.11.0->cirq==0.11.0->tensorflow-quantum) (3.2.2)\n",
            "Requirement already satisfied: pandas in /usr/local/lib/python3.7/dist-packages (from cirq-core==0.11.0->cirq==0.11.0->tensorflow-quantum) (1.1.5)\n",
            "Requirement already satisfied: pytz in /usr/local/lib/python3.7/dist-packages (from google-api-core==1.21.0->tensorflow-quantum) (2018.9)\n",
            "Requirement already satisfied: mpmath>=0.19 in /usr/local/lib/python3.7/dist-packages (from sympy==1.5->tensorflow-quantum) (1.2.1)\n",
            "Requirement already satisfied: kiwisolver>=1.0.1 in /usr/local/lib/python3.7/dist-packages (from matplotlib~=3.0->cirq-core==0.11.0->cirq==0.11.0->tensorflow-quantum) (1.3.1)\n",
            "Requirement already satisfied: cycler>=0.10 in /usr/local/lib/python3.7/dist-packages (from matplotlib~=3.0->cirq-core==0.11.0->cirq==0.11.0->tensorflow-quantum) (0.10.0)\n",
            "Requirement already satisfied: python-dateutil>=2.1 in /usr/local/lib/python3.7/dist-packages (from matplotlib~=3.0->cirq-core==0.11.0->cirq==0.11.0->tensorflow-quantum) (2.8.1)\n",
            "Requirement already satisfied: pyparsing!=2.0.4,!=2.1.2,!=2.1.6,>=2.0.1 in /usr/local/lib/python3.7/dist-packages (from matplotlib~=3.0->cirq-core==0.11.0->cirq==0.11.0->tensorflow-quantum) (2.4.7)\n",
            "Requirement already satisfied: decorator<5,>=4.3 in /usr/local/lib/python3.7/dist-packages (from networkx~=2.4->cirq-core==0.11.0->cirq==0.11.0->tensorflow-quantum) (4.4.2)\n",
            "Requirement already satisfied: zipp>=0.5 in /usr/local/lib/python3.7/dist-packages (from importlib-metadata->markdown>=2.6.8->tensorboard~=2.4->tensorflow==2.4.1) (3.5.0)\n"
          ],
          "name": "stdout"
        }
      ]
    },
    {
      "cell_type": "code",
      "metadata": {
        "id": "VX-2TecfEp31"
      },
      "source": [
        "import cirq\n",
        "import sympy\n",
        "import numpy as np\n",
        "import tensorflow as tf\n",
        "import tensorflow_quantum as tfq\n",
        "\n",
        "# visualization tools\n",
        "%matplotlib inline\n",
        "import matplotlib.pyplot as plt\n",
        "from cirq.contrib.svg import SVGCircuit\n",
        "np.random.seed(1234)"
      ],
      "execution_count": 32,
      "outputs": []
    },
    {
      "cell_type": "code",
      "metadata": {
        "id": "CV2-KvidEp7C"
      },
      "source": [
        ""
      ],
      "execution_count": 32,
      "outputs": []
    },
    {
      "cell_type": "code",
      "metadata": {
        "colab": {
          "base_uri": "https://localhost:8080/"
        },
        "id": "_gIcqc_QEp-u",
        "outputId": "c38401d3-2eb0-46ce-f5c2-501d1024fc00"
      },
      "source": [
        "(x_train, y_trai), (x_test, y_tes) = tf.keras.datasets.cifar10.load_data()\n",
        "\n",
        "# Rescale the images from [0,255] to the [0.0,1.0] range.\n",
        "x_train, x_test = x_train/255.0, x_test/255.0\n",
        "\n",
        "print(\"Number of original training examples:\", len(x_train))\n",
        "print(\"Number of original test examples:\", len(x_test))"
      ],
      "execution_count": 33,
      "outputs": [
        {
          "output_type": "stream",
          "text": [
            "Number of original training examples: 50000\n",
            "Number of original test examples: 10000\n"
          ],
          "name": "stdout"
        }
      ]
    },
    {
      "cell_type": "code",
      "metadata": {
        "id": "liU_k7aqEqCo"
      },
      "source": [
        "y_train=[]\n",
        "for i in range(len(y_trai)):\n",
        "\n",
        "  y_train.append( y_trai[i][0] )\n",
        "\n",
        "y_test=[]\n",
        "for i in range(len(y_tes)):\n",
        "\n",
        "  y_test.append( y_tes[i][0] )\n",
        "\n",
        "y_train = np.array (y_train)\n",
        "y_test = np.array (y_test)"
      ],
      "execution_count": 34,
      "outputs": []
    },
    {
      "cell_type": "code",
      "metadata": {
        "id": "0JEADp-5EqFo"
      },
      "source": [
        "def filter_03(x, y):\n",
        "    keep = (y == 0) | (y == 3)\n",
        "    x, y = x[keep], y[keep]\n",
        "    y = y == 0\n",
        "    return x,y"
      ],
      "execution_count": 35,
      "outputs": []
    },
    {
      "cell_type": "code",
      "metadata": {
        "colab": {
          "base_uri": "https://localhost:8080/"
        },
        "id": "HH1zxoGrEqJh",
        "outputId": "9ce2b497-c15c-43cc-d919-d80de122ad36"
      },
      "source": [
        "x_train, y_train = filter_03(x_train, y_train)\n",
        "x_test, y_test = filter_03(x_test, y_test)\n",
        "\n",
        "print(\"Number of filtered training examples:\", len(x_train))\n",
        "print(\"Number of filtered test examples:\", len(x_test))"
      ],
      "execution_count": 36,
      "outputs": [
        {
          "output_type": "stream",
          "text": [
            "Number of filtered training examples: 10000\n",
            "Number of filtered test examples: 2000\n"
          ],
          "name": "stdout"
        }
      ]
    },
    {
      "cell_type": "code",
      "metadata": {
        "colab": {
          "base_uri": "https://localhost:8080/",
          "height": 300
        },
        "id": "Jlw8I-C7EqMy",
        "outputId": "65436ec8-4481-4ee0-8b5d-49bae5076927"
      },
      "source": [
        "print(y_train[0])\n",
        "\n",
        "plt.imshow(x_train[0, :, :])\n",
        "plt.colorbar()"
      ],
      "execution_count": 37,
      "outputs": [
        {
          "output_type": "stream",
          "text": [
            "False\n"
          ],
          "name": "stdout"
        },
        {
          "output_type": "execute_result",
          "data": {
            "text/plain": [
              "<matplotlib.colorbar.Colorbar at 0x7f36c9f1a490>"
            ]
          },
          "metadata": {
            "tags": []
          },
          "execution_count": 37
        },
        {
          "output_type": "display_data",
          "data": {
            "image/png": "[encoded data removed]",
            "text/plain": [
              "<Figure size 432x288 with 2 Axes>"
            ]
          },
          "metadata": {
            "tags": [],
            "needs_background": "light"
          }
        }
      ]
    },
    {
      "cell_type": "code",
      "metadata": {
        "id": "NAjMDIs9EqPZ"
      },
      "source": [
        ""
      ],
      "execution_count": 37,
      "outputs": []
    },
    {
      "cell_type": "code",
      "metadata": {
        "id": "MqE_b67MEqXB"
      },
      "source": [
        "def truncate_x(x_train, x_test, n_components=10):\n",
        "  \"\"\"Perform PCA on image dataset keeping the top `n_components` components.\"\"\"\n",
        "  n_points_train = tf.gather(tf.shape(x_train), 0)\n",
        "  n_points_test = tf.gather(tf.shape(x_test), 0)\n",
        "\n",
        "  # Flatten to 1D\n",
        "  x_train = tf.reshape(x_train, [n_points_train, -1])\n",
        "  x_test = tf.reshape(x_test, [n_points_test, -1])\n",
        "\n",
        "  # Normalize.\n",
        "  feature_mean = tf.reduce_mean(x_train, axis=0)\n",
        "  x_train_normalized = x_train - feature_mean\n",
        "  x_test_normalized = x_test - feature_mean\n",
        "\n",
        "  # Truncate.\n",
        "  e_values, e_vectors = tf.linalg.eigh(\n",
        "      tf.einsum('ji,jk->ik', x_train_normalized, x_train_normalized))\n",
        "  return tf.einsum('ij,jk->ik', x_train_normalized, e_vectors[:,-n_components:]), \\\n",
        "    tf.einsum('ij,jk->ik', x_test_normalized, e_vectors[:, -n_components:])"
      ],
      "execution_count": 38,
      "outputs": []
    },
    {
      "cell_type": "code",
      "metadata": {
        "colab": {
          "base_uri": "https://localhost:8080/"
        },
        "id": "vv8bvgZ9EqZK",
        "outputId": "f475f517-772f-4c0a-c1bd-52df84c3c771"
      },
      "source": [
        "DATASET_DIM = 10\n",
        "x_train, x_test = truncate_x(x_train, x_test, n_components=DATASET_DIM)\n",
        "print(f'New datapoint dimension:', len(x_train[0]))"
      ],
      "execution_count": 39,
      "outputs": [
        {
          "output_type": "stream",
          "text": [
            "New datapoint dimension: 10\n"
          ],
          "name": "stdout"
        }
      ]
    },
    {
      "cell_type": "code",
      "metadata": {
        "id": "jMO3_2O1Eqct"
      },
      "source": [
        "N_TRAIN = 1000\n",
        "N_TEST = 200\n",
        "x_train, x_test = x_train[:N_TRAIN], x_test[:N_TEST]\n",
        "y_train, y_test = y_train[:N_TRAIN], y_test[:N_TEST]"
      ],
      "execution_count": 40,
      "outputs": []
    },
    {
      "cell_type": "code",
      "metadata": {
        "colab": {
          "base_uri": "https://localhost:8080/"
        },
        "id": "JQnWesu5Eqfd",
        "outputId": "5fc1cbfd-3de0-4922-a4bc-0984cad3829c"
      },
      "source": [
        "print(\"New number of training examples:\", len(x_train))\n",
        "print(\"New number of test examples:\", len(x_test))"
      ],
      "execution_count": 41,
      "outputs": [
        {
          "output_type": "stream",
          "text": [
            "New number of training examples: 1000\n",
            "New number of test examples: 200\n"
          ],
          "name": "stdout"
        }
      ]
    },
    {
      "cell_type": "code",
      "metadata": {
        "id": "ggZn7PYgEqjS"
      },
      "source": [
        ""
      ],
      "execution_count": 41,
      "outputs": []
    },
    {
      "cell_type": "code",
      "metadata": {
        "id": "3s_vjbDJEqlf"
      },
      "source": [
        ""
      ],
      "execution_count": 41,
      "outputs": []
    },
    {
      "cell_type": "code",
      "metadata": {
        "id": "X8BpNwu7EqpK"
      },
      "source": [
        "def single_qubit_wall(qubits, rotations):\n",
        "  \"\"\"Prepare a single qubit X,Y,Z rotation wall on `qubits`.\"\"\"\n",
        "  wall_circuit = cirq.Circuit()\n",
        "  for i, qubit in enumerate(qubits):\n",
        "    for j, gate in enumerate([cirq.X, cirq.Y, cirq.Z]):\n",
        "      wall_circuit.append(gate(qubit) ** rotations[i][j])\n",
        "\n",
        "  return wall_circuit"
      ],
      "execution_count": 42,
      "outputs": []
    },
    {
      "cell_type": "code",
      "metadata": {
        "colab": {
          "base_uri": "https://localhost:8080/",
          "height": 221
        },
        "id": "kKoDRUo_EqrM",
        "outputId": "b0d7103f-102e-4f4f-b791-30c872ac0b4e"
      },
      "source": [
        "SVGCircuit(single_qubit_wall(\n",
        "    cirq.GridQubit.rect(1,4), np.random.uniform(size=(4, 3))))"
      ],
      "execution_count": 43,
      "outputs": [
        {
          "output_type": "execute_result",
          "data": {
            "text/plain": [
              "<cirq.contrib.svg.svg.SVGCircuit at 0x7f36c9d475d0>"
            ],
            "image/svg+xml": "<svg xmlns=\"http://www.w3.org/2000/svg\" width=\"393.80875000000003\" height=\"200.0\"><line x1=\"34.7588671875\" x2=\"363.80875000000003\" y1=\"25.0\" y2=\"25.0\" stroke=\"#1967d2\" stroke-width=\"1\" /><line x1=\"34.7588671875\" x2=\"363.80875000000003\" y1=\"75.0\" y2=\"75.0\" stroke=\"#1967d2\" stroke-width=\"1\" /><line x1=\"34.7588671875\" x2=\"363.80875000000003\" y1=\"125.0\" y2=\"125.0\" stroke=\"#1967d2\" stroke-width=\"1\" /><line x1=\"34.7588671875\" x2=\"363.80875000000003\" y1=\"175.0\" y2=\"175.0\" stroke=\"#1967d2\" stroke-width=\"1\" /><rect x=\"10.0\" y=\"5.0\" width=\"49.517734375\" height=\"40\" stroke=\"black\" fill=\"white\" stroke-width=\"0\" /><text x=\"34.7588671875\" y=\"25.0\" dominant-baseline=\"middle\" text-anchor=\"middle\" font-size=\"14px\" font-family=\"Arial\">(0, 0): </text><rect x=\"10.0\" y=\"55.0\" width=\"49.517734375\" height=\"40\" stroke=\"black\" fill=\"white\" stroke-width=\"0\" /><text x=\"34.7588671875\" y=\"75.0\" dominant-baseline=\"middle\" text-anchor=\"middle\" font-size=\"14px\" font-family=\"Arial\">(0, 1): </text><rect x=\"10.0\" y=\"105.0\" width=\"49.517734375\" height=\"40\" stroke=\"black\" fill=\"white\" stroke-width=\"0\" /><text x=\"34.7588671875\" y=\"125.0\" dominant-baseline=\"middle\" text-anchor=\"middle\" font-size=\"14px\" font-family=\"Arial\">(0, 2): </text><rect x=\"10.0\" y=\"155.0\" width=\"49.517734375\" height=\"40\" stroke=\"black\" fill=\"white\" stroke-width=\"0\" /><text x=\"34.7588671875\" y=\"175.0\" dominant-baseline=\"middle\" text-anchor=\"middle\" font-size=\"14px\" font-family=\"Arial\">(0, 3): </text><rect x=\"79.517734375\" y=\"5.0\" width=\"80.97015625000002\" height=\"40\" stroke=\"black\" fill=\"white\" stroke-width=\"1\" /><text x=\"120.0028125\" y=\"25.0\" dominant-baseline=\"middle\" text-anchor=\"middle\" font-size=\"14px\" font-family=\"Arial\">X^0.192</text><rect x=\"79.517734375\" y=\"55.0\" width=\"80.97015625000002\" height=\"40\" stroke=\"black\" fill=\"white\" stroke-width=\"1\" /><text x=\"120.0028125\" y=\"75.0\" dominant-baseline=\"middle\" text-anchor=\"middle\" font-size=\"14px\" font-family=\"Arial\">X^(11/14)</text><rect x=\"79.517734375\" y=\"105.0\" width=\"80.97015625000002\" height=\"40\" stroke=\"black\" fill=\"white\" stroke-width=\"1\" /><text x=\"120.0028125\" y=\"125.0\" dominant-baseline=\"middle\" text-anchor=\"middle\" font-size=\"14px\" font-family=\"Arial\">X^0.276</text><rect x=\"79.517734375\" y=\"155.0\" width=\"80.97015625000002\" height=\"40\" stroke=\"black\" fill=\"white\" stroke-width=\"1\" /><text x=\"120.0028125\" y=\"175.0\" dominant-baseline=\"middle\" text-anchor=\"middle\" font-size=\"14px\" font-family=\"Arial\">X^0.876</text><rect x=\"180.48789062500003\" y=\"5.0\" width=\"71.47011718750001\" height=\"40\" stroke=\"black\" fill=\"white\" stroke-width=\"1\" /><text x=\"216.22294921875005\" y=\"25.0\" dominant-baseline=\"middle\" text-anchor=\"middle\" font-size=\"14px\" font-family=\"Arial\">Y^0.622</text><rect x=\"180.48789062500003\" y=\"55.0\" width=\"71.47011718750001\" height=\"40\" stroke=\"black\" fill=\"white\" stroke-width=\"1\" /><text x=\"216.22294921875005\" y=\"75.0\" dominant-baseline=\"middle\" text-anchor=\"middle\" font-size=\"14px\" font-family=\"Arial\">Y^0.78</text><rect x=\"180.48789062500003\" y=\"105.0\" width=\"71.47011718750001\" height=\"40\" stroke=\"black\" fill=\"white\" stroke-width=\"1\" /><text x=\"216.22294921875005\" y=\"125.0\" dominant-baseline=\"middle\" text-anchor=\"middle\" font-size=\"14px\" font-family=\"Arial\">Y^0.802</text><rect x=\"180.48789062500003\" y=\"155.0\" width=\"71.47011718750001\" height=\"40\" stroke=\"black\" fill=\"white\" stroke-width=\"1\" /><text x=\"216.22294921875005\" y=\"175.0\" dominant-baseline=\"middle\" text-anchor=\"middle\" font-size=\"14px\" font-family=\"Arial\">Y^(5/14)</text><rect x=\"271.95800781250006\" y=\"5.0\" width=\"71.8507421875\" height=\"40\" stroke=\"black\" fill=\"white\" stroke-width=\"1\" /><text x=\"307.8833789062501\" y=\"25.0\" dominant-baseline=\"middle\" text-anchor=\"middle\" font-size=\"14px\" font-family=\"Arial\">Z^(7/16)</text><rect x=\"271.95800781250006\" y=\"55.0\" width=\"71.8507421875\" height=\"40\" stroke=\"black\" fill=\"white\" stroke-width=\"1\" /><text x=\"307.8833789062501\" y=\"75.0\" dominant-baseline=\"middle\" text-anchor=\"middle\" font-size=\"14px\" font-family=\"Arial\">Z^(3/11)</text><rect x=\"271.95800781250006\" y=\"105.0\" width=\"71.8507421875\" height=\"40\" stroke=\"black\" fill=\"white\" stroke-width=\"1\" /><text x=\"307.8833789062501\" y=\"125.0\" dominant-baseline=\"middle\" text-anchor=\"middle\" font-size=\"14px\" font-family=\"Arial\">Z^0.958</text><rect x=\"271.95800781250006\" y=\"155.0\" width=\"71.8507421875\" height=\"40\" stroke=\"black\" fill=\"white\" stroke-width=\"1\" /><text x=\"307.8833789062501\" y=\"175.0\" dominant-baseline=\"middle\" text-anchor=\"middle\" font-size=\"14px\" font-family=\"Arial\">Z^0.501</text></svg>"
          },
          "metadata": {
            "tags": []
          },
          "execution_count": 43
        }
      ]
    },
    {
      "cell_type": "code",
      "metadata": {
        "id": "0maovoHBEqun"
      },
      "source": [
        "def v_theta(qubits):\n",
        "  \"\"\"Prepares a circuit that generates V(\\theta).\"\"\"\n",
        "  ref_paulis = [\n",
        "      cirq.X(q0) * cirq.X(q1) + \\\n",
        "      cirq.Y(q0) * cirq.Y(q1) + \\\n",
        "      cirq.Z(q0) * cirq.Z(q1) for q0, q1 in zip(qubits, qubits[1:])\n",
        "  ]\n",
        "  exp_symbols = list(sympy.symbols('ref_0:'+str(len(ref_paulis))))\n",
        "  return tfq.util.exponential(ref_paulis, exp_symbols), exp_symbols"
      ],
      "execution_count": 44,
      "outputs": []
    },
    {
      "cell_type": "code",
      "metadata": {
        "colab": {
          "base_uri": "https://localhost:8080/",
          "height": 138
        },
        "id": "av8GL_OsEqwx",
        "outputId": "eaacf09a-7b02-41d3-cf58-e30353b72637"
      },
      "source": [
        "test_circuit, test_symbols = v_theta(cirq.GridQubit.rect(1, 2))\n",
        "print(f'Symbols found in circuit:{test_symbols}')\n",
        "SVGCircuit(test_circuit)"
      ],
      "execution_count": 45,
      "outputs": [
        {
          "output_type": "stream",
          "text": [
            "Symbols found in circuit:[ref_0]\n"
          ],
          "name": "stdout"
        },
        {
          "output_type": "execute_result",
          "data": {
            "text/plain": [
              "<cirq.contrib.svg.svg.SVGCircuit at 0x7f36c9d41fd0>"
            ],
            "image/svg+xml": "<svg xmlns=\"http://www.w3.org/2000/svg\" width=\"1127.4104296875\" height=\"100.0\"><line x1=\"34.7588671875\" x2=\"1097.4104296875\" y1=\"25.0\" y2=\"25.0\" stroke=\"#1967d2\" stroke-width=\"1\" /><line x1=\"34.7588671875\" x2=\"1097.4104296875\" y1=\"75.0\" y2=\"75.0\" stroke=\"#1967d2\" stroke-width=\"1\" /><line x1=\"159.517734375\" x2=\"159.517734375\" y1=\"25.0\" y2=\"75.0\" stroke=\"black\" stroke-width=\"3\" /><line x1=\"339.09585937500003\" x2=\"339.09585937500003\" y1=\"25.0\" y2=\"75.0\" stroke=\"black\" stroke-width=\"3\" /><line x1=\"546.149140625\" x2=\"546.149140625\" y1=\"25.0\" y2=\"75.0\" stroke=\"black\" stroke-width=\"3\" /><line x1=\"725.727265625\" x2=\"725.727265625\" y1=\"25.0\" y2=\"75.0\" stroke=\"black\" stroke-width=\"3\" /><line x1=\"877.8323046875\" x2=\"877.8323046875\" y1=\"25.0\" y2=\"75.0\" stroke=\"black\" stroke-width=\"3\" /><line x1=\"1057.4104296875\" x2=\"1057.4104296875\" y1=\"25.0\" y2=\"75.0\" stroke=\"black\" stroke-width=\"3\" /><rect x=\"10.0\" y=\"5.0\" width=\"49.517734375\" height=\"40\" stroke=\"black\" fill=\"white\" stroke-width=\"0\" /><text x=\"34.7588671875\" y=\"25.0\" dominant-baseline=\"middle\" text-anchor=\"middle\" font-size=\"14px\" font-family=\"Arial\">(0, 0): </text><rect x=\"10.0\" y=\"55.0\" width=\"49.517734375\" height=\"40\" stroke=\"black\" fill=\"white\" stroke-width=\"0\" /><text x=\"34.7588671875\" y=\"75.0\" dominant-baseline=\"middle\" text-anchor=\"middle\" font-size=\"14px\" font-family=\"Arial\">(0, 1): </text><rect x=\"79.517734375\" y=\"55.0\" width=\"40\" height=\"40\" stroke=\"black\" fill=\"white\" stroke-width=\"1\" /><text x=\"99.517734375\" y=\"75.0\" dominant-baseline=\"middle\" text-anchor=\"middle\" font-size=\"18px\" font-family=\"Arial\">H</text><rect x=\"79.517734375\" y=\"5.0\" width=\"40\" height=\"40\" stroke=\"black\" fill=\"white\" stroke-width=\"1\" /><text x=\"99.517734375\" y=\"25.0\" dominant-baseline=\"middle\" text-anchor=\"middle\" font-size=\"18px\" font-family=\"Arial\">H</text><circle cx=\"159.517734375\" cy=\"25.0\" r=\"10.0\" /><rect x=\"139.517734375\" y=\"55.0\" width=\"40\" height=\"40\" stroke=\"black\" fill=\"white\" stroke-width=\"1\" /><text x=\"159.517734375\" y=\"75.0\" dominant-baseline=\"middle\" text-anchor=\"middle\" font-size=\"18px\" font-family=\"Arial\">X</text><rect x=\"199.517734375\" y=\"55.0\" width=\"99.57812500000001\" height=\"40\" stroke=\"black\" fill=\"white\" stroke-width=\"1\" /><text x=\"249.306796875\" y=\"75.0\" dominant-baseline=\"middle\" text-anchor=\"middle\" font-size=\"14px\" font-family=\"Arial\">Rz(2.0*ref_0)</text><circle cx=\"339.09585937500003\" cy=\"25.0\" r=\"10.0\" /><rect x=\"319.09585937500003\" y=\"55.0\" width=\"40\" height=\"40\" stroke=\"black\" fill=\"white\" stroke-width=\"1\" /><text x=\"339.09585937500003\" y=\"75.0\" dominant-baseline=\"middle\" text-anchor=\"middle\" font-size=\"18px\" font-family=\"Arial\">X</text><rect x=\"379.09585937500003\" y=\"5.0\" width=\"40\" height=\"40\" stroke=\"black\" fill=\"white\" stroke-width=\"1\" /><text x=\"399.09585937500003\" y=\"25.0\" dominant-baseline=\"middle\" text-anchor=\"middle\" font-size=\"18px\" font-family=\"Arial\">H</text><rect x=\"379.09585937500003\" y=\"55.0\" width=\"40\" height=\"40\" stroke=\"black\" fill=\"white\" stroke-width=\"1\" /><text x=\"399.09585937500003\" y=\"75.0\" dominant-baseline=\"middle\" text-anchor=\"middle\" font-size=\"18px\" font-family=\"Arial\">H</text><rect x=\"439.09585937500003\" y=\"55.0\" width=\"67.05328125\" height=\"40\" stroke=\"black\" fill=\"white\" stroke-width=\"1\" /><text x=\"472.62250000000006\" y=\"75.0\" dominant-baseline=\"middle\" text-anchor=\"middle\" font-size=\"14px\" font-family=\"Arial\">Rx(0.5π)</text><rect x=\"439.09585937500003\" y=\"5.0\" width=\"67.05328125\" height=\"40\" stroke=\"black\" fill=\"white\" stroke-width=\"1\" /><text x=\"472.62250000000006\" y=\"25.0\" dominant-baseline=\"middle\" text-anchor=\"middle\" font-size=\"14px\" font-family=\"Arial\">Rx(0.5π)</text><circle cx=\"546.149140625\" cy=\"25.0\" r=\"10.0\" /><rect x=\"526.149140625\" y=\"55.0\" width=\"40\" height=\"40\" stroke=\"black\" fill=\"white\" stroke-width=\"1\" /><text x=\"546.149140625\" y=\"75.0\" dominant-baseline=\"middle\" text-anchor=\"middle\" font-size=\"18px\" font-family=\"Arial\">X</text><rect x=\"586.149140625\" y=\"55.0\" width=\"99.57812500000001\" height=\"40\" stroke=\"black\" fill=\"white\" stroke-width=\"1\" /><text x=\"635.938203125\" y=\"75.0\" dominant-baseline=\"middle\" text-anchor=\"middle\" font-size=\"14px\" font-family=\"Arial\">Rz(2.0*ref_0)</text><circle cx=\"725.727265625\" cy=\"25.0\" r=\"10.0\" /><rect x=\"705.727265625\" y=\"55.0\" width=\"40\" height=\"40\" stroke=\"black\" fill=\"white\" stroke-width=\"1\" /><text x=\"725.727265625\" y=\"75.0\" dominant-baseline=\"middle\" text-anchor=\"middle\" font-size=\"18px\" font-family=\"Arial\">X</text><rect x=\"765.727265625\" y=\"5.0\" width=\"72.1050390625\" height=\"40\" stroke=\"black\" fill=\"white\" stroke-width=\"1\" /><text x=\"801.77978515625\" y=\"25.0\" dominant-baseline=\"middle\" text-anchor=\"middle\" font-size=\"14px\" font-family=\"Arial\">Rx(-0.5π)</text><rect x=\"765.727265625\" y=\"55.0\" width=\"72.1050390625\" height=\"40\" stroke=\"black\" fill=\"white\" stroke-width=\"1\" /><text x=\"801.77978515625\" y=\"75.0\" dominant-baseline=\"middle\" text-anchor=\"middle\" font-size=\"14px\" font-family=\"Arial\">Rx(-0.5π)</text><circle cx=\"877.8323046875\" cy=\"25.0\" r=\"10.0\" /><rect x=\"857.8323046875\" y=\"55.0\" width=\"40\" height=\"40\" stroke=\"black\" fill=\"white\" stroke-width=\"1\" /><text x=\"877.8323046875\" y=\"75.0\" dominant-baseline=\"middle\" text-anchor=\"middle\" font-size=\"18px\" font-family=\"Arial\">X</text><rect x=\"917.8323046875\" y=\"55.0\" width=\"99.57812500000001\" height=\"40\" stroke=\"black\" fill=\"white\" stroke-width=\"1\" /><text x=\"967.6213671875\" y=\"75.0\" dominant-baseline=\"middle\" text-anchor=\"middle\" font-size=\"14px\" font-family=\"Arial\">Rz(2.0*ref_0)</text><circle cx=\"1057.4104296875\" cy=\"25.0\" r=\"10.0\" /><rect x=\"1037.4104296875\" y=\"55.0\" width=\"40\" height=\"40\" stroke=\"black\" fill=\"white\" stroke-width=\"1\" /><text x=\"1057.4104296875\" y=\"75.0\" dominant-baseline=\"middle\" text-anchor=\"middle\" font-size=\"18px\" font-family=\"Arial\">X</text></svg>"
          },
          "metadata": {
            "tags": []
          },
          "execution_count": 45
        }
      ]
    },
    {
      "cell_type": "code",
      "metadata": {
        "id": "N_dLGn31H8cx"
      },
      "source": [
        "def prepare_pqk_circuits(qubits, classical_source, n_trotter=10):\n",
        "  \"\"\"Prepare the pqk feature circuits around a dataset.\"\"\"\n",
        "  n_qubits = len(qubits)\n",
        "  n_points = len(classical_source)\n",
        "\n",
        "  # Prepare random single qubit rotation wall.\n",
        "  random_rots = np.random.uniform(-2, 2, size=(n_qubits, 3))\n",
        "  initial_U = single_qubit_wall(qubits, random_rots)\n",
        "\n",
        "  # Prepare parametrized V\n",
        "  V_circuit, symbols = v_theta(qubits)\n",
        "  exp_circuit = cirq.Circuit(V_circuit for t in range(n_trotter))\n",
        "  \n",
        "  # Convert to `tf.Tensor`\n",
        "  initial_U_tensor = tfq.convert_to_tensor([initial_U])\n",
        "  initial_U_splat = tf.tile(initial_U_tensor, [n_points])\n",
        "\n",
        "  full_circuits = tfq.layers.AddCircuit()(\n",
        "      initial_U_splat, append=exp_circuit)\n",
        "  # Replace placeholders in circuits with values from `classical_source`.\n",
        "  return tfq.resolve_parameters(\n",
        "      full_circuits, tf.convert_to_tensor([str(x) for x in symbols]),\n",
        "      tf.convert_to_tensor(classical_source*(n_qubits/3)/n_trotter))"
      ],
      "execution_count": 46,
      "outputs": []
    },
    {
      "cell_type": "code",
      "metadata": {
        "id": "C6_1JZ55QDAt"
      },
      "source": [
        ""
      ],
      "execution_count": 46,
      "outputs": []
    },
    {
      "cell_type": "code",
      "metadata": {
        "id": "XYnicgBlH8SP"
      },
      "source": [
        "qubits = cirq.GridQubit.rect(1, DATASET_DIM + 1)\n",
        "q_x_train_circuits = prepare_pqk_circuits(qubits, x_train)\n",
        "q_x_test_circuits = prepare_pqk_circuits(qubits, x_test)"
      ],
      "execution_count": 47,
      "outputs": []
    },
    {
      "cell_type": "code",
      "metadata": {
        "id": "XWBl3thVEq1S"
      },
      "source": [
        ""
      ],
      "execution_count": 47,
      "outputs": []
    },
    {
      "cell_type": "code",
      "metadata": {
        "id": "Gh9ZhPEvEq3M"
      },
      "source": [
        "def get_pqk_features(qubits, data_batch):\n",
        "  \"\"\"Get PQK features based on above construction.\"\"\"\n",
        "  ops = [[cirq.X(q), cirq.Y(q), cirq.Z(q)] for q in qubits]\n",
        "  ops_tensor = tf.expand_dims(tf.reshape(tfq.convert_to_tensor(ops), -1), 0)\n",
        "  batch_dim = tf.gather(tf.shape(data_batch), 0)\n",
        "  ops_splat = tf.tile(ops_tensor, [batch_dim, 1])\n",
        "  exp_vals = tfq.layers.Expectation()(data_batch, operators=ops_splat)\n",
        "  rdm = tf.reshape(exp_vals, [batch_dim, len(qubits), -1])\n",
        "  return rdm"
      ],
      "execution_count": 48,
      "outputs": []
    },
    {
      "cell_type": "code",
      "metadata": {
        "colab": {
          "base_uri": "https://localhost:8080/"
        },
        "id": "eOHueOFOEq7m",
        "outputId": "6e40537a-a1df-449d-89cf-6b040af149f7"
      },
      "source": [
        "x_train_pqk = get_pqk_features(qubits, q_x_train_circuits)\n",
        "x_test_pqk = get_pqk_features(qubits, q_x_test_circuits)\n",
        "print('New PQK training dataset has shape:', x_train_pqk.shape)\n",
        "print('New PQK testing dataset has shape:', x_test_pqk.shape)"
      ],
      "execution_count": 49,
      "outputs": [
        {
          "output_type": "stream",
          "text": [
            "New PQK training dataset has shape: (1000, 11, 3)\n",
            "New PQK testing dataset has shape: (200, 11, 3)\n"
          ],
          "name": "stdout"
        }
      ]
    },
    {
      "cell_type": "code",
      "metadata": {
        "id": "fHBPD3sqEq9q"
      },
      "source": [
        ""
      ],
      "execution_count": 49,
      "outputs": []
    },
    {
      "cell_type": "code",
      "metadata": {
        "id": "AJrLa3U0ErAk"
      },
      "source": [
        ""
      ],
      "execution_count": 49,
      "outputs": []
    },
    {
      "cell_type": "code",
      "metadata": {
        "id": "zBq6C0erErCo"
      },
      "source": [
        "def compute_kernel_matrix(vecs, gamma):\n",
        "  \"\"\"Computes d[i][j] = e^ -gamma * (vecs[i] - vecs[j]) ** 2 \"\"\"\n",
        "  scaled_gamma = gamma / (\n",
        "      tf.cast(tf.gather(tf.shape(vecs), 1), tf.float32) * tf.math.reduce_std(vecs))\n",
        "  return scaled_gamma * tf.einsum('ijk->ij',(vecs[:,None,:] - vecs) ** 2)\n",
        "\n",
        "def get_spectrum(datapoints, gamma=1.0):\n",
        "  \"\"\"Compute the eigenvalues and eigenvectors of the kernel of datapoints.\"\"\"\n",
        "  KC_qs = compute_kernel_matrix(datapoints, gamma)\n",
        "  S, V = tf.linalg.eigh(KC_qs)\n",
        "  S = tf.math.abs(S)\n",
        "  return S, V"
      ],
      "execution_count": 50,
      "outputs": []
    },
    {
      "cell_type": "code",
      "metadata": {
        "colab": {
          "base_uri": "https://localhost:8080/"
        },
        "id": "ZwzTqdnbErHC",
        "outputId": "cf1a4e42-d655-4e9c-c2cb-58b83dac1a61"
      },
      "source": [
        "S_pqk, V_pqk = get_spectrum(\n",
        "    tf.reshape(tf.concat([x_train_pqk, x_test_pqk], 0), [-1, len(qubits) * 3]))\n",
        "\n",
        "S_original, V_original = get_spectrum(\n",
        "    tf.cast(tf.concat([x_train, x_test], 0), tf.float32), gamma=0.005)\n",
        "\n",
        "print('Eigenvectors of pqk kernel matrix:', V_pqk)\n",
        "print('Eigenvectors of original kernel matrix:', V_original)"
      ],
      "execution_count": 51,
      "outputs": [
        {
          "output_type": "stream",
          "text": [
            "Eigenvectors of pqk kernel matrix: tf.Tensor(\n",
            "[[ 0.02556718  0.00768413  0.00197367 ...  0.07530307 -0.01960875\n",
            "   0.02719977]\n",
            " [ 0.01770481 -0.00984319 -0.02866882 ... -0.00072626 -0.6818408\n",
            "   0.0200118 ]\n",
            " [ 0.02269827 -0.02487514 -0.00872482 ... -0.10491876  0.01171913\n",
            "   0.0228814 ]\n",
            " ...\n",
            " [-0.05020167  0.00879047 -0.00258445 ...  0.01233826 -0.00847624\n",
            "   0.03129106]\n",
            " [-0.06547318  0.01878772 -0.00442906 ...  0.03352804  0.0303734\n",
            "   0.0357622 ]\n",
            " [-0.04468397 -0.01446903  0.01193379 ...  0.03361928 -0.01317962\n",
            "   0.02858297]], shape=(1200, 1200), dtype=float32)\n",
            "Eigenvectors of original kernel matrix: tf.Tensor(\n",
            "[[ 3.4689892e-02 -3.9853401e-02 -4.2038932e-02 ...  6.0135353e-02\n",
            "  -2.4427854e-02  3.4564879e-02]\n",
            " [ 3.7354674e-02  2.0159408e-02  1.0199435e-02 ... -2.6009066e-04\n",
            "  -7.4891526e-01  2.8748117e-02]\n",
            " [ 1.9476874e-02  2.7302338e-02 -4.5219634e-02 ... -6.7100883e-01\n",
            "  -8.6603668e-03  3.8624268e-02]\n",
            " ...\n",
            " [-8.0402512e-03 -7.7783358e-03  4.4654772e-02 ...  5.3088897e-04\n",
            "   5.0321803e-03  1.6520131e-02]\n",
            " [-1.0150994e-02 -8.8812457e-03  3.5677042e-02 ... -8.2517723e-03\n",
            "  -1.6495862e-04  1.9646330e-02]\n",
            " [ 2.8460100e-02  2.0321060e-02  8.2820682e-03 ...  3.1088084e-02\n",
            "  -5.4624744e-02  2.7190438e-02]], shape=(1200, 1200), dtype=float32)\n"
          ],
          "name": "stdout"
        }
      ]
    },
    {
      "cell_type": "code",
      "metadata": {
        "id": "ofag66unErJh"
      },
      "source": [
        ""
      ],
      "execution_count": 51,
      "outputs": []
    },
    {
      "cell_type": "code",
      "metadata": {
        "id": "-qtLmSGsErMb"
      },
      "source": [
        "def get_stilted_dataset(S, V, S_2, V_2, lambdav=1.1):\n",
        "  \"\"\"Prepare new labels that maximize geometric distance between kernels.\"\"\"\n",
        "  S_diag = tf.linalg.diag(S ** 0.5)\n",
        "  S_2_diag = tf.linalg.diag(S_2 / (S_2 + lambdav) ** 2)\n",
        "  scaling = S_diag @ tf.transpose(V) @ \\\n",
        "            V_2 @ S_2_diag @ tf.transpose(V_2) @ \\\n",
        "            V @ S_diag\n",
        "\n",
        "  # Generate new lables using the largest eigenvector.\n",
        "  _, vecs = tf.linalg.eig(scaling)\n",
        "  new_labels = tf.math.real(\n",
        "      tf.einsum('ij,j->i', tf.cast(V @ S_diag, tf.complex64), vecs[-1])).numpy()\n",
        "  # Create new labels and add some small amount of noise.\n",
        "  final_y = new_labels > np.median(new_labels)\n",
        "  noisy_y = (final_y ^ (np.random.uniform(size=final_y.shape) > 0.95))\n",
        "  return noisy_y"
      ],
      "execution_count": 52,
      "outputs": []
    },
    {
      "cell_type": "code",
      "metadata": {
        "id": "_VZekErLErOl"
      },
      "source": [
        "y_relabel = get_stilted_dataset(S_pqk, V_pqk, S_original, V_original)\n",
        "y_train_new, y_test_new = y_relabel[:N_TRAIN], y_relabel[N_TRAIN:]"
      ],
      "execution_count": 53,
      "outputs": []
    },
    {
      "cell_type": "code",
      "metadata": {
        "id": "v2Z02IoyErRm"
      },
      "source": [
        ""
      ],
      "execution_count": 53,
      "outputs": []
    },
    {
      "cell_type": "code",
      "metadata": {
        "colab": {
          "base_uri": "https://localhost:8080/"
        },
        "id": "IBlaeJAFErT8",
        "outputId": "a1ad2730-2468-498f-deb9-e30fe785ff55"
      },
      "source": [
        "#docs_infra: no_execute\n",
        "def create_pqk_model():\n",
        "    model = tf.keras.Sequential()\n",
        "    model.add(tf.keras.layers.Dense(32, activation='sigmoid', input_shape=[len(qubits) * 3,]))\n",
        "    model.add(tf.keras.layers.Dense(1))\n",
        "    return model\n",
        "\n",
        "pqk_model = create_pqk_model()\n",
        "pqk_model.compile(loss=tf.keras.losses.BinaryCrossentropy(from_logits=True),\n",
        "              optimizer=tf.keras.optimizers.Adam(learning_rate=0.003),\n",
        "              metrics=['accuracy'])\n",
        "\n",
        "pqk_model.summary()"
      ],
      "execution_count": 54,
      "outputs": [
        {
          "output_type": "stream",
          "text": [
            "Model: \"sequential_2\"\n",
            "_________________________________________________________________\n",
            "Layer (type)                 Output Shape              Param #   \n",
            "=================================================================\n",
            "dense_6 (Dense)              (None, 32)                1088      \n",
            "_________________________________________________________________\n",
            "dense_7 (Dense)              (None, 1)                 33        \n",
            "=================================================================\n",
            "Total params: 1,121\n",
            "Trainable params: 1,121\n",
            "Non-trainable params: 0\n",
            "_________________________________________________________________\n"
          ],
          "name": "stdout"
        }
      ]
    },
    {
      "cell_type": "code",
      "metadata": {
        "id": "p7unDme1IQLi"
      },
      "source": [
        "#docs_infra: no_execute\n",
        "pqk_history = pqk_model.fit(tf.reshape(x_train_pqk, [N_TRAIN, -1]),\n",
        "          y_train_new,\n",
        "          batch_size=32,\n",
        "          epochs=1000,\n",
        "          verbose=0,\n",
        "          validation_data=(tf.reshape(x_test_pqk, [N_TEST, -1]), y_test_new))"
      ],
      "execution_count": 55,
      "outputs": []
    },
    {
      "cell_type": "code",
      "metadata": {
        "id": "zWh9TH4PIQSo",
        "colab": {
          "base_uri": "https://localhost:8080/"
        },
        "outputId": "931c866d-f522-4b83-a609-bfa61ffc0c9a"
      },
      "source": [
        "import numpy\n",
        "cvscores = []\n",
        "scores = pqk_model.evaluate(tf.reshape(x_test_pqk, [N_TEST, -1]) , y_test_new)\n",
        "print(\"%s: %.2f%%\" % (pqk_model.metrics_names[1], scores[1]*100))\n",
        "cvscores.append(scores[1] * 100)\n",
        "print(\"%.2f%% (+/- %.2f%%)\" % (numpy.mean(cvscores), numpy.std(cvscores)))"
      ],
      "execution_count": 56,
      "outputs": [
        {
          "output_type": "stream",
          "text": [
            "7/7 [==============================] - 0s 2ms/step - loss: 2.5760 - accuracy: 0.8750\n",
            "accuracy: 87.50%\n",
            "87.50% (+/- 0.00%)\n"
          ],
          "name": "stdout"
        }
      ]
    },
    {
      "cell_type": "code",
      "metadata": {
        "id": "q8ahYXEoIQU5"
      },
      "source": [
        ""
      ],
      "execution_count": 56,
      "outputs": []
    },
    {
      "cell_type": "code",
      "metadata": {
        "colab": {
          "base_uri": "https://localhost:8080/"
        },
        "id": "ALRdb39XIR9F",
        "outputId": "53e36758-dd99-4907-d604-18b9090daa09"
      },
      "source": [
        "#docs_infra: no_execute\n",
        "def create_fair_classical_model():\n",
        "    model = tf.keras.Sequential()\n",
        "    model.add(tf.keras.layers.Dense(32, activation='sigmoid', input_shape=[DATASET_DIM,]))\n",
        "    model.add(tf.keras.layers.Dense(1))\n",
        "    return model\n",
        "\n",
        "model = create_fair_classical_model()\n",
        "model.compile(loss=tf.keras.losses.BinaryCrossentropy(from_logits=True),\n",
        "              optimizer=tf.keras.optimizers.Adam(learning_rate=0.03),\n",
        "              metrics=['accuracy'])\n",
        "\n",
        "model.summary()"
      ],
      "execution_count": 57,
      "outputs": [
        {
          "output_type": "stream",
          "text": [
            "Model: \"sequential_3\"\n",
            "_________________________________________________________________\n",
            "Layer (type)                 Output Shape              Param #   \n",
            "=================================================================\n",
            "dense_8 (Dense)              (None, 32)                352       \n",
            "_________________________________________________________________\n",
            "dense_9 (Dense)              (None, 1)                 33        \n",
            "=================================================================\n",
            "Total params: 385\n",
            "Trainable params: 385\n",
            "Non-trainable params: 0\n",
            "_________________________________________________________________\n"
          ],
          "name": "stdout"
        }
      ]
    },
    {
      "cell_type": "code",
      "metadata": {
        "id": "VG1mJe_AISAM"
      },
      "source": [
        "#docs_infra: no_execute\n",
        "classical_history = model.fit(x_train,\n",
        "          y_train_new,\n",
        "          batch_size=32,\n",
        "          epochs=1000,\n",
        "          verbose=0,\n",
        "          validation_data=(x_test, y_test_new))"
      ],
      "execution_count": 58,
      "outputs": []
    },
    {
      "cell_type": "code",
      "metadata": {
        "id": "6nbLkgBPJRoU"
      },
      "source": [
        ""
      ],
      "execution_count": 58,
      "outputs": []
    },
    {
      "cell_type": "code",
      "metadata": {
        "id": "D7UwR5fFJRrb"
      },
      "source": [
        ""
      ],
      "execution_count": 58,
      "outputs": []
    },
    {
      "cell_type": "code",
      "metadata": {
        "colab": {
          "base_uri": "https://localhost:8080/",
          "height": 405
        },
        "id": "AKIWjGgMIQXp",
        "outputId": "0a1681b2-d26f-40b3-e9eb-704036183839"
      },
      "source": [
        "#docs_infra: no_execute\n",
        "plt.figure(figsize=(12,6))\n",
        "plt.plot(classical_history.history['accuracy'], label='accuracy_classical', color='b')\n",
        "plt.plot(classical_history.history['val_accuracy'], label='val_accuracy_classical', color='g')\n",
        "plt.plot(pqk_history.history['accuracy'], label='accuracy_quantum', color='c')\n",
        "plt.plot(pqk_history.history['val_accuracy'], label='val_accuracy_quantum', color='y')\n",
        "plt.xlabel('Epoch')\n",
        "plt.ylabel('Accuracy')\n",
        "plt.legend()"
      ],
      "execution_count": 59,
      "outputs": [
        {
          "output_type": "execute_result",
          "data": {
            "text/plain": [
              "<matplotlib.legend.Legend at 0x7f36c9b26650>"
            ]
          },
          "metadata": {
            "tags": []
          },
          "execution_count": 59
        },
        {
          "output_type": "display_data",
          "data": {
            "image/png": "[encoded data removed]",
            "text/plain": [
              "<Figure size 864x432 with 1 Axes>"
            ]
          },
          "metadata": {
            "tags": [],
            "needs_background": "light"
          }
        }
      ]
    },
    {
      "cell_type": "code",
      "metadata": {
        "id": "vcWOOGwVIQaf",
        "colab": {
          "base_uri": "https://localhost:8080/"
        },
        "outputId": "c605b96d-bae7-47fe-a500-6d61800d758b"
      },
      "source": [
        "import numpy\n",
        "cvscores = []\n",
        "scores = model.evaluate(x_test, y_test, verbose=0)\n",
        "print(\"%s: %.2f%%\" % (model.metrics_names[1], scores[1]*100))\n",
        "cvscores.append(scores[1] * 100)\n",
        "print(\"%.2f%% (+/- %.2f%%)\" % (numpy.mean(cvscores), numpy.std(cvscores)))"
      ],
      "execution_count": 60,
      "outputs": [
        {
          "output_type": "stream",
          "text": [
            "accuracy: 53.00%\n",
            "53.00% (+/- 0.00%)\n"
          ],
          "name": "stdout"
        }
      ]
    },
    {
      "cell_type": "code",
      "metadata": {
        "id": "0fuLlZlBErW9"
      },
      "source": [
        ""
      ],
      "execution_count": 60,
      "outputs": []
    }
  ]
}